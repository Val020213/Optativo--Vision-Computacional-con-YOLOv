{
 "cells": [
  {
   "cell_type": "markdown",
   "metadata": {},
   "source": [
    "##### Importar Dependencias"
   ]
  },
  {
   "cell_type": "code",
   "execution_count": null,
   "metadata": {},
   "outputs": [],
   "source": [
    "from os import listdir\n",
    "from scr.util import *"
   ]
  },
  {
   "cell_type": "markdown",
   "metadata": {},
   "source": [
    "##### Definir el documento de entrada del inicio y fin de los lanzamientos y los nombres de las carpetas de salida"
   ]
  },
  {
   "cell_type": "code",
   "execution_count": null,
   "metadata": {},
   "outputs": [],
   "source": [
    "data_doc_path = \"./data/SCUvsIND.txt\"\n",
    "\n",
    "default_videos_output_path = \"./output/Clips/\"\n",
    "dein_videos_output_path = \"./output/Clips_dein/\"\n",
    "detected_images_output_path = \"./output/BallDetected_yolo/\"\n",
    "not_detected_images_output_path = \"./output/BallNotDetected_yolo/\"\n",
    "\n",
    "default_name = \"SCUvsIND_02\"\n",
    "video = \"./data/video/SCUvsIND_02.mts\"\n",
    "\n",
    "model_path = \"../YOLOv8/yolov8m.pt\"\n",
    "\n",
    "# MASTER\n",
    "MAX_VIDEOS_PROCS = 10000000\n"
   ]
  },
  {
   "cell_type": "markdown",
   "metadata": {},
   "source": [
    "#### Recortar los videos"
   ]
  },
  {
   "cell_type": "code",
   "execution_count": null,
   "metadata": {},
   "outputs": [],
   "source": [
    "count = 1\n",
    "\n",
    "\n",
    "for M, N in load_doc_data(data_doc_path):\n",
    "    trim_video(  # Margen de Error M - 5  -->  N + 5\n",
    "        video,\n",
    "        default_videos_output_path\n",
    "        + default_name\n",
    "        + format_name_default_output_video(count),\n",
    "        M - 5,\n",
    "        N + 5,\n",
    "        1,\n",
    "    )\n",
    "    count += 1\n",
    "    if count > MAX_VIDEOS_PROCS:\n",
    "        break\n",
    "\n",
    "print(\"Trim Videos Done\")"
   ]
  },
  {
   "cell_type": "markdown",
   "metadata": {},
   "source": [
    "#### Desentrelazar los clips"
   ]
  },
  {
   "cell_type": "code",
   "execution_count": null,
   "metadata": {},
   "outputs": [],
   "source": [
    "for clip in listdir(default_videos_output_path):\n",
    "    print(format_name_dein_output_video(clip))\n",
    "    output_name = dein_videos_output_path + format_name_dein_output_video(clip)\n",
    "    deinterlace_video(default_videos_output_path + clip, output_name)\n",
    "    "
   ]
  },
  {
   "cell_type": "markdown",
   "metadata": {},
   "source": [
    "#### Cargar el modelo y dependencias"
   ]
  },
  {
   "cell_type": "code",
   "execution_count": null,
   "metadata": {},
   "outputs": [],
   "source": [
    "import cv2\n",
    "import torch\n",
    "from ultralytics import YOLO\n",
    "\n",
    "model = YOLO(model_path)\n",
    "print(torch.cuda.is_available())"
   ]
  },
  {
   "cell_type": "code",
   "execution_count": null,
   "metadata": {},
   "outputs": [],
   "source": [
    "clips = listdir(dein_videos_output_path)\n",
    "clips.sort()\n",
    "\n",
    "for clip in clips:\n",
    "    count = 1\n",
    "    cap = cv2.VideoCapture(dein_videos_output_path + clip)\n",
    "\n",
    "    while True:\n",
    "        ret, frame = cap.read()\n",
    "        if not ret:\n",
    "            break\n",
    "        result = model(frame)\n",
    "\n",
    "        output_img = not_detected_images_output_path\n",
    "\n",
    "        if 32 in result[0].boxes.cls:\n",
    "            output_img = detected_images_output_path\n",
    "\n",
    "        tmp = format_name_output_img(clip, count)\n",
    "        \n",
    "        print(tmp)\n",
    "\n",
    "        cv2.imwrite(output_img + tmp, frame)\n",
    "        count += 1"
   ]
  }
 ],
 "metadata": {
  "kernelspec": {
   "display_name": "base",
   "language": "python",
   "name": "python3"
  },
  "language_info": {
   "codemirror_mode": {
    "name": "ipython",
    "version": 3
   },
   "file_extension": ".py",
   "mimetype": "text/x-python",
   "name": "python",
   "nbconvert_exporter": "python",
   "pygments_lexer": "ipython3",
   "version": "3.11.5"
  }
 },
 "nbformat": 4,
 "nbformat_minor": 2
}
